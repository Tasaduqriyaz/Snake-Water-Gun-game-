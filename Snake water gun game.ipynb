{
 "cells": [
  {
   "cell_type": "code",
   "execution_count": 7,
   "id": "90290619-51e6-49a8-bc52-0f0a9bc8c9d2",
   "metadata": {},
   "outputs": [
    {
     "name": "stdin",
     "output_type": "stream",
     "text": [
      "enter the number of rounds   2\n",
      "enter 1 for snake,2 for gun, 3 for water  1\n"
     ]
    },
    {
     "name": "stdout",
     "output_type": "stream",
     "text": [
      "you have chose snake\n",
      "The choice made by the computer is: gun\n",
      "The round 1 is won by Computer\n",
      "\n"
     ]
    },
    {
     "name": "stdin",
     "output_type": "stream",
     "text": [
      "enter 1 for snake,2 for gun, 3 for water  2\n"
     ]
    },
    {
     "name": "stdout",
     "output_type": "stream",
     "text": [
      "you have chosen gun\n",
      "The choice made by the computer is: snake\n",
      "The round 2 is won by you\n",
      "\n",
      "The number of rounds won by user are 1\n",
      "The number of rounds won by Computer are 1\n",
      "The number of rounds which have been drawn are 0\n",
      "Game is drawn\n"
     ]
    }
   ],
   "source": [
    "# Snake-Water-Gun Game Program\n",
    "import random\n",
    "rounds=int(input('enter the number of rounds  ')) \n",
    "computer_wins=0 \n",
    "user_wins=0\n",
    "draws=0\n",
    "for i in range (0,rounds): \n",
    "    user=int(input('enter 1 for snake,2 for gun, 3 for water '))\n",
    "    if user >3 or user <1:\n",
    "        raise ValueError ('You have entered a wrong value')\n",
    "    if user==1:\n",
    "        print ('you have chose snake')\n",
    "    elif user==2:\n",
    "        print ('you have chosen gun')\n",
    "    elif user==3:\n",
    "        print ('you have chosen water')\n",
    "    str=['snake','gun','water'] \n",
    "    choice=''.join(random.choice(str))\n",
    "    print('The choice made by the computer is:',choice)\n",
    "    if choice=='snake': \n",
    "        if user==1:\n",
    "            draws+=1\n",
    "            print (f'The round {i+1} is drawn\\n')\n",
    "            continue\n",
    "        elif user==2:\n",
    "            user_wins+=1\n",
    "            print (f'The round {i+1} is won by you\\n')\n",
    "            \n",
    "        else:\n",
    "            computer_wins+=1\n",
    "            print (f'The round {i+1} is won by Computer\\n')\n",
    "    elif choice=='gun':\n",
    "        if user==1:\n",
    "            computer_wins+=1\n",
    "            print (f'The round {i+1} is won by Computer\\n')\n",
    "        elif user==2:\n",
    "            draws+=1\n",
    "            print (f'The round {i+1} is drawn\\n')\n",
    "            continue\n",
    "        else:\n",
    "            user_wins+=1\n",
    "            print (f'The round {i+1} is won by you\\n')\n",
    "\n",
    "    else:     \n",
    "       if user==1:\n",
    "          user_wins+=1 \n",
    "          print (f'The round {i+1} is won by you\\n')\n",
    "       elif user==2:\n",
    "          computer_wins+=1\n",
    "          print (f'The round {i+1} is won by Computer\\n')\n",
    "       else:\n",
    "          draws+=1\n",
    "          print (f'The round {i+1} is drawn\\n')\n",
    "          continue\n",
    "print ('The number of rounds won by user are',user_wins)\n",
    "print('The number of rounds won by Computer are',computer_wins)\n",
    "print('The number of rounds which have been drawn are',draws)\n",
    "if user_wins>computer_wins:\n",
    "    print ('User have won the game')\n",
    "elif computer_wins>user_wins:\n",
    "    print ('Computer has won the game') \n",
    "else:\n",
    "    print('Game is drawn')"
   ]
  },
  {
   "cell_type": "code",
   "execution_count": null,
   "id": "1e0c766b-5969-4877-9c95-de1f71d36444",
   "metadata": {},
   "outputs": [],
   "source": []
  }
 ],
 "metadata": {
  "kernelspec": {
   "display_name": "Python 3 (ipykernel)",
   "language": "python",
   "name": "python3"
  },
  "language_info": {
   "codemirror_mode": {
    "name": "ipython",
    "version": 3
   },
   "file_extension": ".py",
   "mimetype": "text/x-python",
   "name": "python",
   "nbconvert_exporter": "python",
   "pygments_lexer": "ipython3",
   "version": "3.11.7"
  }
 },
 "nbformat": 4,
 "nbformat_minor": 5
}
